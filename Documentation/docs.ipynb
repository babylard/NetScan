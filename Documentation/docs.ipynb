{
 "cells": [
  {
   "cell_type": "markdown",
   "metadata": {},
   "source": [
    "# Setup\n",
    "You will need to install Packet capturing software for the program to function properly. Here are some good options you can choose from:\n",
    "1.    [NpCap](https://npcap.com/#download)\n",
    "2.    [WinPcap](https://www.winpcap.org/install/default.htm)\n",
    "3.    [Nmap](https://nmap.org/download.html)\n",
    "\n",
    "I wouldn't use WinPcap, as it has ceased development a long time ago and is vunreble to DLL Injection, but if you're not worried about security then it should work just fine. For more information you can visit their [website](https://www.winpcap.org/).\n",
    "\n",
    "Please note that you are only required to have one of these, or other software with the same functionality.\n",
    "\n",
    "If you are using a `.py` file rather than a `.exe` from releases (`.py` files will be used as of 0.0.4), you will need to first correctly install Python from [Python.org](https://www.python.org). Afterwards, open a Terminal, and make sure it is located in the downloaded NetScan folder, and run `pip install -r requirements.txt` to install all required dependencies.\n",
    "\n",
    "# Basic Usage\n",
    "\n",
    "Input the IP Address of your Router/AP, along with the range. Both fields will be set properly by default, so they can be left as is unless you would like to make changes. There is also a checkbox labeled \"Show short OUIs\" which when checked, will show an 8 character long version of listed manufacturers to reserve space if needed. When left unchecked, the full length will be outputted. The TUI version now has this ability as of 0.8\n",
    "\n",
    "Once everything is set to your preference, press `Scan Network`. The program will list devices it finds in realtime, and when finished you should have list of every devices IP, MAC Address, OS, etc.\n",
    "\n",
    "![image](https://github.com/babylard/NetScan/assets/75695872/5ec60a6f-acdf-4ef7-a6ea-ec1ee3adf62e)\n",
    "\n",
    "# Deauthing Devices\n",
    "\n",
    "Click the `Deauth a device` button in the main GUI and a Window will appear.\n",
    "\n",
    "![image](https://github.com/babylard/NetScan/assets/75695872/c4bd8e3c-4aea-4e77-bcf7-edf73c5bcd04)\n",
    "\n",
    "To begin, input the MAC Address of the device you want to Deauth in the `Target MAC` field, then input your Router's MAC in the `Router MAC` field, the program needs to know the Router's MAC to function properly. This attack will only work on vunreble routers without `802.11w` implemented.\n",
    "\n",
    "Finally press Deauth and leave it as is for as long as you like. The Deauth lasts for about 10 seconds, so it is looped to remain constant.\n",
    "\n",
    "# Known issues\n",
    "\n",
    "None for now."
   ]
  }
 ],
 "metadata": {
  "kernelspec": {
   "display_name": "Python 3",
   "language": "python",
   "name": "python3"
  },
  "language_info": {
   "codemirror_mode": {
    "name": "ipython",
    "version": 3
   },
   "file_extension": ".py",
   "mimetype": "text/x-python",
   "name": "python",
   "nbconvert_exporter": "python",
   "pygments_lexer": "ipython3",
   "version": "3.12.0"
  }
 },
 "nbformat": 4,
 "nbformat_minor": 2
}
