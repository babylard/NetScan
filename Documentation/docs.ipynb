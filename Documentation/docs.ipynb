{
 "cells": [
  {
   "cell_type": "markdown",
   "metadata": {},
   "source": [
    "# Setup\n",
    "First of all, you will need to install Packet capturing software for the program to function properly. Here are some good options:\n",
    "1.    [NpCap](https://npcap.com/#download)\n",
    "2.    [WinPcap](https://www.winpcap.org/install/default.htm)\n",
    "3.    [Nmap](https://nmap.org/download.html)\n",
    "\n",
    "I wouldn't use WinPcap, as it has ceased development quite a long time ago and is vunreble to DLL Injections, however if you're not worried about security then it should work just fine. For more information on vunrebilities of using WinPcap you can visit their [website](https://www.winpcap.org/). For Mac users, I reccomend using Nmap.\n",
    "\n",
    "If you are using a `.py` file rather than a `.exe` from releases (`.py` files will be used as of 0.0.4), you will need to first install Python from [Python.org](https://www.python.org). Make sure to check `Add to path` in the installer. Afterwards, open a Terminal, and make sure it is located in the downloaded NetScan folder, and run `pip install -r requirements.txt` to install all required dependencies.\n",
    "\n",
    "A `.exe` should work just fine out of the box, but if not then make sure you have Packet capturing software installed as mentioned above.\n",
    "\n",
    "\n",
    "# Usage\n",
    "\n",
    "To begin, Input the IP Address of your Router/AP, along with the range. If you dont know what an IP range is, you can just leave it as is and it will function just fine. Both fields will be set properly as of 0.0.3, so they can be left as is unless you would like to make changes. The TUI version currently does not have this functionality. There is also a checkbox labeled \"Show short OUIs\" which when checked, will show an 8 character long version of listed manufacturers to preserve space. When left unchecked, the full length will be outputted. The TUI version, also does not have this option.\n",
    "\n",
    "Once everything is set, press `Scan Network`. The program may freeze for a brief moment, as it is retrieving many details from devices. Afterwards you should have a neat looking list of IP's, MAC Addresses, OS information, etc.\n",
    "\n",
    "![image](https://github.com/babylard/NetScan/assets/75695872/105273d8-7dc2-486f-aad3-229812b58880)\n",
    "\n",
    "# Known issues\n",
    "\n",
    "1. I have found that sometimes results wont display when using WinPcap, but it seems to work ok after retrying a few times for some reason. This can also occur because the IP Range you entered was Invalid.\n",
    "   24 is set by default which should work just fine. Or maybe it isn't any of these, I'm not sure. But as mentioned above, after retrying a few times it seems to work fine.\n",
    "\n",
    "2. The text looks jank at times. My only solution for this right now is to check the `Show short OUIs` checkbox, as they can be different lengths and cause text which belongs under a certain section to be\n",
    "   under the wrong one."
   ]
  }
 ],
 "metadata": {
  "kernelspec": {
   "display_name": "Python 3",
   "language": "python",
   "name": "python3"
  },
  "language_info": {
   "codemirror_mode": {
    "name": "ipython",
    "version": 3
   },
   "file_extension": ".py",
   "mimetype": "text/x-python",
   "name": "python",
   "nbconvert_exporter": "python",
   "pygments_lexer": "ipython3",
   "version": "3.12.0"
  }
 },
 "nbformat": 4,
 "nbformat_minor": 2
}
