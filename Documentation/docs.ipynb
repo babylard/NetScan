{
 "cells": [
  {
   "cell_type": "markdown",
   "metadata": {},
   "source": [
    "# Setup\n",
    "First of all, you will need to install Packet capturing software for the program to function properly. Here are some good options:\n",
    "1.    [NpCap]( https://npcap.com/#download)\n",
    "2.    [WinPcap]( https://www.winpcap.org/install/default.htm)\n",
    "3.    [Nmap](https://nmap.org/download.html)\n",
    "\n",
    "I wouldn't use WinPcap, as it has ceased development quite a long time ago and is vunreble to DLL Injections, however if you're not worried about security then it should work just fine. For Mac users, I reccomend using Nmap.\n",
    "\n",
    "If you are using a `.py` file rather than a `.exe` from releases (`.py` files will be used as of 0.0.4), you will need to first install Python from [Python.org](https://www.python.org). Make sure to check `Add to path` in the installer. Afterwards, open a Terminal, and make sure it is located in the downloaded NetScan folder, and run `pip install -r requirements.txt` to install all required dependencies.\n",
    "\n",
    "A `.exe` should work just fine out of the box, but if not then make sure you have Packet capturing software installed as mentioned above.\n",
    "\n",
    "\n",
    "# Usage\n",
    "\n",
    "To begin, Input the IP Address of your Router/AP, along with the range. If you dont know what an IP range is, you can just leave it as is and it will function just fine. Both fields will be set properly as of 0.0.3, so they can be left as is unless you would like to make changes. There is also a checkbox labeled \"Show short OUIs\" which when checked, will show an 8 character long version of listed manufacturers to preserve space. When left unchecked, the full length will be outputted. \n",
    "\n",
    "Once everything is set, press `Scan`. The program may freeze for a brief moment, as it is retrieving many details from devices. Afterwards you should have a neat looking list of IP's, MAC Addresses, OS information, etc.\n",
    "\n",
    "\n",
    "\n",
    "![python_lZQGK8S0eq](https://github.com/babylard/NetScan/assets/75695872/903b6d31-08b4-44e5-afcf-d8c5cc97d00e)"
   ]
  }
 ],
 "metadata": {
  "kernelspec": {
   "display_name": "Python 3",
   "language": "python",
   "name": "python3"
  },
  "language_info": {
   "codemirror_mode": {
    "name": "ipython",
    "version": 3
   },
   "file_extension": ".py",
   "mimetype": "text/x-python",
   "name": "python",
   "nbconvert_exporter": "python",
   "pygments_lexer": "ipython3",
   "version": "3.12.0"
  }
 },
 "nbformat": 4,
 "nbformat_minor": 2
}
