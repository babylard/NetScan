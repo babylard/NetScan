{
 "cells": [
  {
   "cell_type": "markdown",
   "metadata": {},
   "source": [
    "# Setup\n",
    "First of all, you will need to install Packet capturing software for the program to function properly. Here are some good options:\n",
    "1.    [NpCap](https://npcap.com/#download)\n",
    "2.    [WinPcap](https://www.winpcap.org/install/default.htm)\n",
    "3.    [Nmap](https://nmap.org/download.html)\n",
    "\n",
    "If wouldn't use WinPcap, as it has ceased development quite a long time ago and is vunreble to DLL Injections and such, however if you're not worried about security then it should work just fine. For more information on vunrebilities of using WinPcap you can visit their [website](https://www.winpcap.org/). For Mac users, I reccomend using Nmap.\n",
    "\n",
    "Please note that you are only required to have one of these, or other software with the same functionality.\n",
    "\n",
    "If you are using a `.py` file rather than a `.exe` from releases (`.py` files will be used as of 0.0.4), you will need to first correctly install Python from [Python.org](https://www.python.org). Afterwards, open a Terminal, and make sure it is located in the downloaded NetScan folder, and run `pip install -r requirements.txt` to install all required dependencies.\n",
    "\n",
    "# Basic Usage\n",
    "\n",
    "To begin, Input the IP Address of your Router/AP, along with the range. If you dont know what an IP range is, you can just leave it as is and it will function just fine. Both fields will be set properly as of 0.0.3, so they can be left as is unless you would like to make changes. The TUI version currently does not have this functionality. There is also a checkbox labeled \"Show short OUIs\" which when checked, will show an 8 character long version of listed manufacturers to preserve space since these can often be quite long, espesially from foriegn manufacturers. When left unchecked, the full length will be outputted. The TUI version now has this ability as of 0.8\n",
    "\n",
    "Once everything is set to your preference, press `Scan Network`. The program will list devices it finds in realtime, and when finished you should have list of every devices IP, MAC Address, OS, etc.\n",
    "\n",
    "![image](https://github.com/babylard/NetScan/assets/75695872/5ec60a6f-acdf-4ef7-a6ea-ec1ee3adf62e)\n",
    "\n",
    "# Deauthing Devices\n",
    "\n",
    "Now for the fun part, lets say there is a device using your network that you do not want connected to it, you can prevent the device from accessing your network by Deauthing it. Click the `Deauth a device` button in the main GUI and a Window will appear.\n",
    "\n",
    "![image](https://github.com/babylard/NetScan/assets/75695872/c4bd8e3c-4aea-4e77-bcf7-edf73c5bcd04)\n",
    "\n",
    "To begin, input the MAC Address of the device you want to Deauth in the `Target MAC` field, then input your Router's MAC in the `Router MAC` field. This does not effect the router in any way, the program just needs to know the Router's MAC to function properly.\n",
    "\n",
    "Then finally press Deauth and leave it as is for as long as you like. The Deauth lasts for about 10 seconds, so it has to be looped to remain constant.\n",
    "\n",
    "Note: after pressing `Stop Deauth` the program may display `Deauthed for 10 seconds, repeating...` one more time. But the Deauth has stopped.\n",
    "\n",
    "# Known issues\n",
    "\n",
    "None for now."
   ]
  }
 ],
 "metadata": {
  "kernelspec": {
   "display_name": "Python 3",
   "language": "python",
   "name": "python3"
  },
  "language_info": {
   "codemirror_mode": {
    "name": "ipython",
    "version": 3
   },
   "file_extension": ".py",
   "mimetype": "text/x-python",
   "name": "python",
   "nbconvert_exporter": "python",
   "pygments_lexer": "ipython3",
   "version": "3.12.0"
  }
 },
 "nbformat": 4,
 "nbformat_minor": 2
}
